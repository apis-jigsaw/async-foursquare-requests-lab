{
 "cells": [
  {
   "cell_type": "markdown",
   "id": "955cc154-73f9-4cc4-9da0-46e463dbbb3d",
   "metadata": {},
   "source": [
    "# Async Scraping Lab"
   ]
  },
  {
   "cell_type": "markdown",
   "id": "68a863f1-1b54-493a-8022-0bf27c20b23a",
   "metadata": {},
   "source": [
    "### Introduction"
   ]
  },
  {
   "cell_type": "markdown",
   "id": "8bfe289f-a696-44df-95bb-b9620729b3e1",
   "metadata": {},
   "source": [
    "In this lesson, we'll use the async.io library to pull data from indeed.com.  Let's get started."
   ]
  },
  {
   "cell_type": "code",
   "execution_count": null,
   "id": "34fa512f-6f91-4824-a793-c958d2533257",
   "metadata": {},
   "outputs": [],
   "source": [
    "### "
   ]
  }
 ],
 "metadata": {
  "kernelspec": {
   "display_name": "Python 3 (ipykernel)",
   "language": "python",
   "name": "python3"
  },
  "language_info": {
   "codemirror_mode": {
    "name": "ipython",
    "version": 3
   },
   "file_extension": ".py",
   "mimetype": "text/x-python",
   "name": "python",
   "nbconvert_exporter": "python",
   "pygments_lexer": "ipython3",
   "version": "3.9.12"
  }
 },
 "nbformat": 4,
 "nbformat_minor": 5
}
